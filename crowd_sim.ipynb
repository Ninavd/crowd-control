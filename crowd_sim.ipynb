{
 "cells": [
  {
   "cell_type": "code",
   "execution_count": 7,
   "metadata": {},
   "outputs": [],
   "source": [
    "import numpy as np"
   ]
  },
  {
   "cell_type": "code",
   "execution_count": 12,
   "metadata": {},
   "outputs": [
    {
     "name": "stdout",
     "output_type": "stream",
     "text": [
      "70.0\n"
     ]
    }
   ],
   "source": [
    "def pop_init(len_x, len_y, n_pop):\n",
    "    '''Initializing the population'''\n",
    "    pop = np.zeros((len_x, len_y))\n",
    "    coordinate = np.zeros((2))\n",
    "    while sum(sum(pop)) < n_pop:\n",
    "        coordinate[0] = np.random.randint(len_x, dtype=int)\n",
    "        coordinate[1] = np.random.randint(len_y, dtype=int)\n",
    "        pop[int(coordinate[0]), int(coordinate[1])] = 1\n",
    "    return pop"
   ]
  }
 ],
 "metadata": {
  "kernelspec": {
   "display_name": "IntroCS",
   "language": "python",
   "name": "python3"
  },
  "language_info": {
   "codemirror_mode": {
    "name": "ipython",
    "version": 3
   },
   "file_extension": ".py",
   "mimetype": "text/x-python",
   "name": "python",
   "nbconvert_exporter": "python",
   "pygments_lexer": "ipython3",
   "version": "3.10.12"
  }
 },
 "nbformat": 4,
 "nbformat_minor": 2
}
