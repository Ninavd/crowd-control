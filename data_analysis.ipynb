{
 "cells": [
  {
   "cell_type": "code",
   "execution_count": 1,
   "metadata": {},
   "outputs": [
    {
     "ename": "FileNotFoundError",
     "evalue": "./results/data/runs_10_p_0.1_rho_0.04_L_50_iters_5000.csv not found.",
     "output_type": "error",
     "traceback": [
      "\u001b[0;31m---------------------------------------------------------------------------\u001b[0m",
      "\u001b[0;31mFileNotFoundError\u001b[0m                         Traceback (most recent call last)",
      "Cell \u001b[0;32mIn[1], line 25\u001b[0m\n\u001b[1;32m     23\u001b[0m \u001b[38;5;28;01mfor\u001b[39;00m rho_index, rho \u001b[38;5;129;01min\u001b[39;00m \u001b[38;5;28menumerate\u001b[39m(rho_values):\n\u001b[1;32m     24\u001b[0m     \u001b[38;5;28;01mfor\u001b[39;00m p \u001b[38;5;129;01min\u001b[39;00m p_values:\n\u001b[0;32m---> 25\u001b[0m         my_data \u001b[38;5;241m=\u001b[39m \u001b[43mnp\u001b[49m\u001b[38;5;241;43m.\u001b[39;49m\u001b[43mgenfromtxt\u001b[49m\u001b[43m(\u001b[49m\u001b[38;5;124;43mf\u001b[39;49m\u001b[38;5;124;43m'\u001b[39;49m\u001b[38;5;124;43m./results/data/runs_\u001b[39;49m\u001b[38;5;132;43;01m{\u001b[39;49;00m\u001b[43mn_runs\u001b[49m\u001b[38;5;132;43;01m}\u001b[39;49;00m\u001b[38;5;124;43m_p_\u001b[39;49m\u001b[38;5;132;43;01m{\u001b[39;49;00m\u001b[43mp\u001b[49m\u001b[38;5;132;43;01m}\u001b[39;49;00m\u001b[38;5;124;43m_rho_\u001b[39;49m\u001b[38;5;132;43;01m{\u001b[39;49;00m\u001b[43mrho\u001b[49m\u001b[38;5;132;43;01m}\u001b[39;49;00m\u001b[38;5;124;43m_L_\u001b[39;49m\u001b[38;5;132;43;01m{\u001b[39;49;00m\u001b[43mL\u001b[49m\u001b[38;5;132;43;01m}\u001b[39;49;00m\u001b[38;5;124;43m_iters_\u001b[39;49m\u001b[38;5;132;43;01m{\u001b[39;49;00m\u001b[43miterations\u001b[49m\u001b[38;5;132;43;01m}\u001b[39;49;00m\u001b[38;5;124;43m.csv\u001b[39;49m\u001b[38;5;124;43m'\u001b[39;49m\u001b[43m,\u001b[49m\u001b[43m \u001b[49m\u001b[43mdelimiter\u001b[49m\u001b[43m \u001b[49m\u001b[38;5;241;43m=\u001b[39;49m\u001b[43m \u001b[49m\u001b[38;5;124;43m'\u001b[39;49m\u001b[38;5;124;43m,\u001b[39;49m\u001b[38;5;124;43m'\u001b[39;49m\u001b[43m,\u001b[49m\u001b[43m \u001b[49m\u001b[43mskip_header\u001b[49m\u001b[38;5;241;43m=\u001b[39;49m\u001b[38;5;241;43m1\u001b[39;49m\u001b[43m)\u001b[49m\n\u001b[1;32m     26\u001b[0m         my_data \u001b[38;5;241m=\u001b[39m my_data\u001b[38;5;241m.\u001b[39mT\n\u001b[1;32m     27\u001b[0m         phi_means \u001b[38;5;241m=\u001b[39m my_data[\u001b[38;5;241m1\u001b[39m]\n",
      "File \u001b[0;32m~/.local/lib/python3.10/site-packages/numpy/lib/npyio.py:1977\u001b[0m, in \u001b[0;36mgenfromtxt\u001b[0;34m(fname, dtype, comments, delimiter, skip_header, skip_footer, converters, missing_values, filling_values, usecols, names, excludelist, deletechars, replace_space, autostrip, case_sensitive, defaultfmt, unpack, usemask, loose, invalid_raise, max_rows, encoding, ndmin, like)\u001b[0m\n\u001b[1;32m   1975\u001b[0m     fname \u001b[38;5;241m=\u001b[39m os_fspath(fname)\n\u001b[1;32m   1976\u001b[0m \u001b[38;5;28;01mif\u001b[39;00m \u001b[38;5;28misinstance\u001b[39m(fname, \u001b[38;5;28mstr\u001b[39m):\n\u001b[0;32m-> 1977\u001b[0m     fid \u001b[38;5;241m=\u001b[39m \u001b[43mnp\u001b[49m\u001b[38;5;241;43m.\u001b[39;49m\u001b[43mlib\u001b[49m\u001b[38;5;241;43m.\u001b[39;49m\u001b[43m_datasource\u001b[49m\u001b[38;5;241;43m.\u001b[39;49m\u001b[43mopen\u001b[49m\u001b[43m(\u001b[49m\u001b[43mfname\u001b[49m\u001b[43m,\u001b[49m\u001b[43m \u001b[49m\u001b[38;5;124;43m'\u001b[39;49m\u001b[38;5;124;43mrt\u001b[39;49m\u001b[38;5;124;43m'\u001b[39;49m\u001b[43m,\u001b[49m\u001b[43m \u001b[49m\u001b[43mencoding\u001b[49m\u001b[38;5;241;43m=\u001b[39;49m\u001b[43mencoding\u001b[49m\u001b[43m)\u001b[49m\n\u001b[1;32m   1978\u001b[0m     fid_ctx \u001b[38;5;241m=\u001b[39m contextlib\u001b[38;5;241m.\u001b[39mclosing(fid)\n\u001b[1;32m   1979\u001b[0m \u001b[38;5;28;01melse\u001b[39;00m:\n",
      "File \u001b[0;32m~/.local/lib/python3.10/site-packages/numpy/lib/_datasource.py:193\u001b[0m, in \u001b[0;36mopen\u001b[0;34m(path, mode, destpath, encoding, newline)\u001b[0m\n\u001b[1;32m    156\u001b[0m \u001b[38;5;250m\u001b[39m\u001b[38;5;124;03m\"\"\"\u001b[39;00m\n\u001b[1;32m    157\u001b[0m \u001b[38;5;124;03mOpen `path` with `mode` and return the file object.\u001b[39;00m\n\u001b[1;32m    158\u001b[0m \n\u001b[0;32m   (...)\u001b[0m\n\u001b[1;32m    189\u001b[0m \n\u001b[1;32m    190\u001b[0m \u001b[38;5;124;03m\"\"\"\u001b[39;00m\n\u001b[1;32m    192\u001b[0m ds \u001b[38;5;241m=\u001b[39m DataSource(destpath)\n\u001b[0;32m--> 193\u001b[0m \u001b[38;5;28;01mreturn\u001b[39;00m \u001b[43mds\u001b[49m\u001b[38;5;241;43m.\u001b[39;49m\u001b[43mopen\u001b[49m\u001b[43m(\u001b[49m\u001b[43mpath\u001b[49m\u001b[43m,\u001b[49m\u001b[43m \u001b[49m\u001b[43mmode\u001b[49m\u001b[43m,\u001b[49m\u001b[43m \u001b[49m\u001b[43mencoding\u001b[49m\u001b[38;5;241;43m=\u001b[39;49m\u001b[43mencoding\u001b[49m\u001b[43m,\u001b[49m\u001b[43m \u001b[49m\u001b[43mnewline\u001b[49m\u001b[38;5;241;43m=\u001b[39;49m\u001b[43mnewline\u001b[49m\u001b[43m)\u001b[49m\n",
      "File \u001b[0;32m~/.local/lib/python3.10/site-packages/numpy/lib/_datasource.py:533\u001b[0m, in \u001b[0;36mDataSource.open\u001b[0;34m(self, path, mode, encoding, newline)\u001b[0m\n\u001b[1;32m    530\u001b[0m     \u001b[38;5;28;01mreturn\u001b[39;00m _file_openers[ext](found, mode\u001b[38;5;241m=\u001b[39mmode,\n\u001b[1;32m    531\u001b[0m                               encoding\u001b[38;5;241m=\u001b[39mencoding, newline\u001b[38;5;241m=\u001b[39mnewline)\n\u001b[1;32m    532\u001b[0m \u001b[38;5;28;01melse\u001b[39;00m:\n\u001b[0;32m--> 533\u001b[0m     \u001b[38;5;28;01mraise\u001b[39;00m \u001b[38;5;167;01mFileNotFoundError\u001b[39;00m(\u001b[38;5;124mf\u001b[39m\u001b[38;5;124m\"\u001b[39m\u001b[38;5;132;01m{\u001b[39;00mpath\u001b[38;5;132;01m}\u001b[39;00m\u001b[38;5;124m not found.\u001b[39m\u001b[38;5;124m\"\u001b[39m)\n",
      "\u001b[0;31mFileNotFoundError\u001b[0m: ./results/data/runs_10_p_0.1_rho_0.04_L_50_iters_5000.csv not found."
     ]
    }
   ],
   "source": [
    "import numpy as np \n",
    "import matplotlib.pyplot as plt \n",
    "from matplotlib import cm \n",
    "import matplotlib as mpl\n",
    "\n",
    "# mpl.rcParams['axes.prop_cycle'] = mpl.cycler(color=[\"r\", \"k\", \"c\"])\n",
    "\n",
    "\n",
    "iterations = 2000\n",
    "n_runs = 10\n",
    "L = 50\n",
    "rho_values = [0.02, 0.04, 0.08, 0.1, 0.12, 0.14, 0.16, 0.18, 0.2, 0.22, 0.24, 0.26, 0.28]\n",
    "p_values = [0.1, 0.2, 0.3, 0.4, 0.5, 0.6, 0.7, 0.8, 0.9, 1.0]\n",
    "\n",
    "# list of (rho, p, phi) tuples for 3D plot\n",
    "data_points = [] \n",
    "\n",
    "# for the plots that show chronological progession\n",
    "# key=rho, value=2D list, one for every p value, containing the progression of the order param\n",
    "all_data = {rho : [] for rho in rho_values}\n",
    "\n",
    "# load data from files\n",
    "for rho_index, rho in enumerate(rho_values):\n",
    "    for p in p_values:\n",
    "        my_data = np.genfromtxt(f'./results/data/runs_{n_runs}_p_{p}_rho_{rho}_L_{L}_iters_{iterations}.csv', delimiter = ',', skip_header=1)\n",
    "        my_data = my_data.T\n",
    "        phi_means = my_data[1]\n",
    "        phi_stds = my_data[2]\n",
    "        \n",
    "        \n",
    "        data_points.append((rho, p, np.mean(phi_means[:-100])))\n",
    "\n",
    "        all_data[rho].append([phi_means, phi_stds])"
   ]
  },
  {
   "cell_type": "markdown",
   "metadata": {},
   "source": [
    "# Average order progression for different crowd densities\n",
    "For constant soberness  (likeliness to move straight) = 0.8"
   ]
  },
  {
   "cell_type": "code",
   "execution_count": null,
   "metadata": {},
   "outputs": [],
   "source": [
    "# plot average progression for different densities and p = 0.8\n",
    "%matplotlib notebook\n",
    "plt.figure()\n",
    "colors = cm.nipy_spectral(np.linspace(0, 1, len(rho_values)))\n",
    "\n",
    "for rho in rho_values:\n",
    "    plt.plot(range(iterations), all_data[rho][7][0], label=f'$\\\\rho$ = {rho}')\n",
    "plt.ylabel('$\\\\tilde{\\phi}$', fontsize=14)\n",
    "plt.xlabel('iteration')\n",
    "plt.legend()\n",
    "plt.show()"
   ]
  },
  {
   "cell_type": "markdown",
   "metadata": {},
   "source": [
    "# Average order progression for different probabilities of wanting to move straight\n",
    "for density = 0.16"
   ]
  },
  {
   "cell_type": "code",
   "execution_count": null,
   "metadata": {},
   "outputs": [],
   "source": [
    "# plotting order progression for constant rho\n",
    "plt.figure()\n",
    "rho = 0.15\n",
    "for i, p in enumerate(p_values):\n",
    "    plt.plot(range(iterations), all_data[0.16][i][0], label=f'$k$ = {p}')\n",
    "plt.ylabel('$\\\\tilde{\\phi}$', fontsize=14)\n",
    "plt.xlabel('iteration')\n",
    "plt.legend()\n",
    "plt.show()"
   ]
  },
  {
   "cell_type": "markdown",
   "metadata": {},
   "source": [
    "# 'converged' order param as a function of the density\n",
    "This is for constant soberness value of 0.8"
   ]
  },
  {
   "cell_type": "code",
   "execution_count": null,
   "metadata": {},
   "outputs": [],
   "source": [
    "# p = 0.8\n",
    "\n",
    "plt.figure()\n",
    "plt.errorbar(x=rho_values, y=[np.mean(all_data[rho][7][0][:-100]) for rho in rho_values], yerr=np.array([np.std(all_data[rho][7][0][:-100]) for rho in rho_values])/1.5, fmt='o-')\n",
    "plt.xlabel('$\\\\rho$', fontsize=14)\n",
    "plt.ylabel('lane formation ($\\\\tilde{\\phi}$)', fontsize=14)\n",
    "plt.grid()\n",
    "plt.ylim(0, 1)\n",
    "plt.show()"
   ]
  },
  {
   "cell_type": "markdown",
   "metadata": {},
   "source": [
    "# 'converged' order param. as a function of soberness\n",
    "This is for constant density of 0.16"
   ]
  },
  {
   "cell_type": "code",
   "execution_count": null,
   "metadata": {},
   "outputs": [],
   "source": [
    "rho = 0.16\n",
    "plt.figure()\n",
    "plt.errorbar(1-np.array(p_values), [np.mean(all_data[rho][i][0][:-100]) for i in range(len(p_values))], yerr=1.96*np.array([np.std(all_data[rho][i][0][:-100]) for i in range(len(p_values))])/5, fmt='o-')\n",
    "plt.xlabel('$p_{drunk}$', fontsize=14)\n",
    "plt.ylabel('lane formation ($\\\\tilde{\\phi}$)', fontsize=14)\n",
    "plt.grid()\n",
    "# plt.ylim(0, 1)\n",
    "plt.show()"
   ]
  },
  {
   "cell_type": "markdown",
   "metadata": {},
   "source": [
    "# confidence interval for one density, one drunkness value progression of line plot"
   ]
  },
  {
   "cell_type": "code",
   "execution_count": null,
   "metadata": {},
   "outputs": [],
   "source": [
    "# plotting order progression for constant rho\n",
    "plt.figure()\n",
    "rhos = [0.02, 0.16, 0.24]\n",
    "p = 0.8 \n",
    "\n",
    "for rho in rhos:\n",
    "    plt.plot(range(iterations), all_data[rho][7][0], label=f'$\\\\rho$ = {rho}')\n",
    "    plt.fill_between(x=range(iterations), y1=all_data[rho][7][0]-1.96*all_data[rho][7][1]/np.sqrt(10), y2=all_data[rho][7][0]+1.96*all_data[rho][7][1]/np.sqrt(10), alpha=0.5)\n",
    "plt.ylabel('$\\\\tilde{\\phi}$', fontsize=14)\n",
    "plt.xlabel('iteration')\n",
    "plt.title(f'drunkenness {round(1-p, 2)}')\n",
    "plt.legend()\n",
    "plt.grid(axis='y')\n",
    "plt.ylim(0, 1)\n",
    "plt.show()"
   ]
  },
  {
   "cell_type": "markdown",
   "metadata": {},
   "source": [
    "# 3D plot of $\\rho$ vs $p$ cs $\\phi$ (crowd density, vs drunkness vs amount of lane formation)"
   ]
  },
  {
   "cell_type": "code",
   "execution_count": null,
   "metadata": {},
   "outputs": [],
   "source": [
    "# surface plot, x = rho, y=p, z=phi\n",
    "\n",
    "fig = plt.figure()\n",
    "ax = fig.add_subplot(projection='3d')\n",
    "\n",
    "# plot the surface\n",
    "ax.plot_trisurf(\n",
    "    [rho for rho,_,_ in data_points], \n",
    "    [1-p for _,p,_ in data_points], \n",
    "    [phi for _,_,phi in data_points], \n",
    "    linewidth=0, antialiased=False, cmap=cm.coolwarm)\n",
    "\n",
    "ax.set_xlabel('$\\\\rho$')\n",
    "ax.set_ylabel('drunkenness')\n",
    "ax.set_zlabel('lane formation $\\\\tilde{\\phi}$')\n",
    "ax.set_zlim(0, 1)\n",
    "plt.show()"
   ]
  },
  {
   "cell_type": "code",
   "execution_count": null,
   "metadata": {},
   "outputs": [],
   "source": [
    "import numpy as np\n",
    "import scipy.stats as stats\n",
    "\n",
    "run = 0\n",
    "rho = 0.1\n",
    "L=50\n",
    "iterations = 20000\n",
    "phi_values = np.genfromtxt(f'./results/run_{run}_rho_{rho}_L_{L}_iters_{iterations}.csv', delimiter = ',', skip_header=1)\n",
    "phi_values = phi_values[:,1]\n",
    "for i in range(iterations):\n",
    "    if i > 5200:\n",
    "        slope, intercept, r, p_values, se = stats.linregress([np.linspace(0, 4999, 5000), phi_values[i-5000:i]])\n",
    "        if p_values > 0.05:\n",
    "            print(i, p_values)"
   ]
  }
 ],
 "metadata": {
  "kernelspec": {
   "display_name": "Python 3 (ipykernel)",
   "language": "python",
   "name": "python3"
  },
  "language_info": {
   "codemirror_mode": {
    "name": "ipython",
    "version": 3
   },
   "file_extension": ".py",
   "mimetype": "text/x-python",
   "name": "python",
   "nbconvert_exporter": "python",
   "pygments_lexer": "ipython3",
   "version": "3.10.12"
  }
 },
 "nbformat": 4,
 "nbformat_minor": 4
}
