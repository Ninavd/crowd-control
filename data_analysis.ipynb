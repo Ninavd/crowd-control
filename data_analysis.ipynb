{
 "cells": [
  {
   "cell_type": "code",
   "execution_count": null,
   "metadata": {},
   "outputs": [],
   "source": [
    "import numpy as np \n",
    "import matplotlib.pyplot as plt \n",
    "from matplotlib import cm \n",
    "import matplotlib as mpl\n",
    "\n",
    "# mpl.rcParams['axes.prop_cycle'] = mpl.cycler(color=[\"r\", \"k\", \"c\"])\n",
    "\n",
    "\n",
    "iterations = 2000\n",
    "n_runs = 10\n",
    "L = 50\n",
    "rho_values = [0.02, 0.04, 0.08, 0.1, 0.12, 0.14, 0.16, 0.18, 0.2, 0.22, 0.24, 0.26, 0.28]\n",
    "p_values = [0.1, 0.2, 0.3, 0.4, 0.5, 0.6, 0.7, 0.8, 0.9, 1.0]\n",
    "\n",
    "# list of (rho, p, phi) tuples for 3D plot\n",
    "data_points = [] \n",
    "\n",
    "# for the plots that show chronological progession\n",
    "# key=rho, value=2D list, one for every p value, containing the progression of the order param\n",
    "all_data = {rho : [] for rho in rho_values}\n",
    "\n",
    "# load data from files\n",
    "for rho_index, rho in enumerate(rho_values):\n",
    "    for p in p_values:\n",
    "        my_data = np.genfromtxt(f'./results/data/runs_{n_runs}_p_{p}_rho_{rho}_L_{L}_iters_{iterations}.csv', delimiter = ',', skip_header=1)\n",
    "        my_data = my_data.T\n",
    "        phi_means = my_data[1]\n",
    "        phi_stds = my_data[2]\n",
    "\n",
    "        data_points.append((rho, p, np.mean(phi_means[:-100])))\n",
    "\n",
    "        all_data[rho].append(phi_means)"
   ]
  },
  {
   "cell_type": "markdown",
   "metadata": {},
   "source": [
    "# Average order progression for different crowd densities\n",
    "For constant soberness  (likeliness to move straight) = 0.8"
   ]
  },
  {
   "cell_type": "code",
   "execution_count": null,
   "metadata": {},
   "outputs": [],
   "source": [
    "# plot average progression for different densities and p = 0.8\n",
    "%matplotlib notebook\n",
    "plt.figure()\n",
    "colors = cm.nipy_spectral(np.linspace(0, 1, len(rho_values)))\n",
    "\n",
    "for rho in rho_values:\n",
    "    plt.plot(range(iterations), all_data[rho][7], label=f'$\\\\rho$ = {rho}')\n",
    "plt.ylabel('$\\\\tilde{\\phi}$', fontsize=14)\n",
    "plt.xlabel('iteration')\n",
    "plt.legend()\n",
    "plt.show()"
   ]
  },
  {
   "cell_type": "markdown",
   "metadata": {},
   "source": [
    "# Average order progression for different probabilities of wanting to move straight\n",
    "for density = 0.16"
   ]
  },
  {
   "cell_type": "code",
   "execution_count": null,
   "metadata": {},
   "outputs": [],
   "source": [
    "# plotting order progression for constant rho\n",
    "plt.figure()\n",
    "rho = 0.15\n",
    "for i, p in enumerate(p_values):\n",
    "    plt.plot(range(iterations), all_data[0.16][i], label=f'$k$ = {p}')\n",
    "plt.ylabel('$\\\\tilde{\\phi}$', fontsize=14)\n",
    "plt.xlabel('iteration')\n",
    "plt.legend()\n",
    "plt.show()"
   ]
  },
  {
   "cell_type": "markdown",
   "metadata": {},
   "source": [
    "# 'converged' order param as a function of the density\n",
    "This is for constant soberness value of 0.8"
   ]
  },
  {
   "cell_type": "code",
   "execution_count": null,
   "metadata": {},
   "outputs": [],
   "source": [
    "# p = 0.8\n",
    "\n",
    "plt.figure()\n",
    "plt.plot(rho_values, [np.mean(all_data[rho][7][:-100]) for rho in rho_values], 'o-')\n",
    "plt.xlabel('density')\n",
    "plt.ylabel('order param.')\n",
    "plt.grid()\n",
    "plt.ylim(0, 1)\n",
    "plt.show()"
   ]
  },
  {
   "cell_type": "markdown",
   "metadata": {},
   "source": [
    "# 'converged' order param. as a function of soberness\n",
    "This is for constant density of 0.16"
   ]
  },
  {
   "cell_type": "code",
   "execution_count": null,
   "metadata": {},
   "outputs": [],
   "source": [
    "rho = 0.16\n",
    "plt.figure()\n",
    "plt.plot(p_values, [np.mean(all_data[rho][i][:-100]) for i in range(len(p_values))], 'o-')\n",
    "plt.xlabel('soberness (p)')\n",
    "plt.ylabel('lane formation ($\\phi$)')\n",
    "plt.grid()\n",
    "plt.ylim(0, 1)\n",
    "plt.show()"
   ]
  },
  {
   "cell_type": "markdown",
   "metadata": {},
   "source": [
    "# 3D plot of $\\rho$ vs $p$ cs $\\phi$ (crowd density, vs drunkness vs amount of lane formation)"
   ]
  },
  {
   "cell_type": "code",
   "execution_count": null,
   "metadata": {},
   "outputs": [],
   "source": [
    "# surface plot, x = rho, y=p, z=phi\n",
    "\n",
    "fig = plt.figure()\n",
    "ax = fig.add_subplot(projection='3d')\n",
    "\n",
    "# plot the surface\n",
    "ax.plot_trisurf(\n",
    "    [rho for rho,_,_ in data_points], \n",
    "    [p for _,p,_ in data_points], \n",
    "    [phi for _,_,phi in data_points], \n",
    "    linewidth=0, antialiased=False, cmap=cm.coolwarm)\n",
    "\n",
    "ax.set_xlabel('density')\n",
    "ax.set_ylabel('p')\n",
    "ax.set_zlabel('lane formation $\\\\phi$')\n",
    "ax.set_zlim(0, 1)\n",
    "plt.show()"
   ]
  },
  {
   "cell_type": "code",
   "execution_count": null,
   "metadata": {},
   "outputs": [],
   "source": [
    "import numpy as np\n",
    "import scipy.stats as stats\n",
    "\n",
    "run = 0\n",
    "rho = 0.1\n",
    "L=50\n",
    "iterations = 20000\n",
    "phi_values = np.genfromtxt(f'./results/run_{run}_rho_{rho}_L_{L}_iters_{iterations}.csv', delimiter = ',', skip_header=1)\n",
    "phi_values = phi_values[:,1]\n",
    "for i in range(iterations):\n",
    "    if i > 5200:\n",
    "        slope, intercept, r, p_values, se = stats.linregress([np.linspace(0, 4999, 5000), phi_values[i-5000:i]])\n",
    "        if p_values > 0.05:\n",
    "            print(i, p_values)"
   ]
  }
 ],
 "metadata": {
  "kernelspec": {
   "display_name": "Python 3 (ipykernel)",
   "language": "python",
   "name": "python3"
  },
  "language_info": {
   "codemirror_mode": {
    "name": "ipython",
    "version": 3
   },
   "file_extension": ".py",
   "mimetype": "text/x-python",
   "name": "python",
   "nbconvert_exporter": "python",
   "pygments_lexer": "ipython3",
   "version": "3.10.8"
  }
 },
 "nbformat": 4,
 "nbformat_minor": 2
}
