{
 "cells": [
  {
   "cell_type": "code",
   "execution_count": 61,
   "metadata": {},
   "outputs": [
    {
     "name": "stdout",
     "output_type": "stream",
     "text": [
      "9999.0\n",
      "Error: for p = 0.05, rho = 0.01, run = 0.0, there is no steady state measured. \n",
      "                         We should probably lower the range of intervals we include in the linear regression \n",
      "                         or make the lower percentile boundary higher\n",
      "9999.0\n",
      "Error: for p = 0.05, rho = 0.01, run = 1.0, there is no steady state measured. \n",
      "                         We should probably lower the range of intervals we include in the linear regression \n",
      "                         or make the lower percentile boundary higher\n",
      "9999.0\n",
      "Error: for p = 0.05, rho = 0.01, run = 2.0, there is no steady state measured. \n",
      "                         We should probably lower the range of intervals we include in the linear regression \n",
      "                         or make the lower percentile boundary higher\n",
      "9999.0\n",
      "Error: for p = 0.05, rho = 0.01, run = 3.0, there is no steady state measured. \n",
      "                         We should probably lower the range of intervals we include in the linear regression \n",
      "                         or make the lower percentile boundary higher\n",
      "9999.0\n",
      "Error: for p = 0.05, rho = 0.01, run = 4.0, there is no steady state measured. \n",
      "                         We should probably lower the range of intervals we include in the linear regression \n",
      "                         or make the lower percentile boundary higher\n",
      "9999.0\n",
      "Error: for p = 0.05, rho = 0.01, run = 5.0, there is no steady state measured. \n",
      "                         We should probably lower the range of intervals we include in the linear regression \n",
      "                         or make the lower percentile boundary higher\n"
     ]
    },
    {
     "ename": "KeyboardInterrupt",
     "evalue": "",
     "output_type": "error",
     "traceback": [
      "\u001b[1;31m---------------------------------------------------------------------------\u001b[0m",
      "\u001b[1;31mKeyboardInterrupt\u001b[0m                         Traceback (most recent call last)",
      "Cell \u001b[1;32mIn[61], line 25\u001b[0m\n\u001b[0;32m     23\u001b[0m     \u001b[38;5;28;01mif\u001b[39;00m i \u001b[38;5;241m>\u001b[39m \u001b[38;5;241m1000\u001b[39m \u001b[38;5;129;01mand\u001b[39;00m i \u001b[38;5;241m<\u001b[39m \u001b[38;5;241m4000\u001b[39m:\n\u001b[0;32m     24\u001b[0m         slope, intercept, r_value, significance[p_ix, rho_ix, \u001b[38;5;28mint\u001b[39m(run), i], se \u001b[38;5;241m=\u001b[39m stats\u001b[38;5;241m.\u001b[39mlinregress(\u001b[38;5;28mlist\u001b[39m([np\u001b[38;5;241m.\u001b[39mlinspace(\u001b[38;5;241m0\u001b[39m, \u001b[38;5;241m1999\u001b[39m, \u001b[38;5;241m2000\u001b[39m), phi_values[i\u001b[38;5;241m-\u001b[39m\u001b[38;5;241m1000\u001b[39m:i\u001b[38;5;241m+\u001b[39m\u001b[38;5;241m1000\u001b[39m]]))\n\u001b[1;32m---> 25\u001b[0m         mean[p_ix, rho_ix, \u001b[38;5;28mint\u001b[39m(run), i] \u001b[38;5;241m=\u001b[39m \u001b[43mnp\u001b[49m\u001b[38;5;241;43m.\u001b[39;49m\u001b[43mmean\u001b[49m\u001b[43m(\u001b[49m\u001b[43mphi_values\u001b[49m\u001b[43m[\u001b[49m\u001b[43mi\u001b[49m\u001b[38;5;241;43m-\u001b[39;49m\u001b[38;5;241;43m1000\u001b[39;49m\u001b[43m:\u001b[49m\u001b[43mi\u001b[49m\u001b[38;5;241;43m+\u001b[39;49m\u001b[38;5;241;43m1000\u001b[39;49m\u001b[43m]\u001b[49m\u001b[43m)\u001b[49m\n\u001b[0;32m     26\u001b[0m         CI_int[p_ix, rho_ix, \u001b[38;5;28mint\u001b[39m(run), i] \u001b[38;5;241m=\u001b[39m np\u001b[38;5;241m.\u001b[39mpercentile(phi_values[i\u001b[38;5;241m-\u001b[39m\u001b[38;5;241m1000\u001b[39m:i\u001b[38;5;241m+\u001b[39m\u001b[38;5;241m1000\u001b[39m], [\u001b[38;5;241m1\u001b[39m, \u001b[38;5;241m100\u001b[39m])\n\u001b[0;32m     28\u001b[0m \u001b[38;5;28;01mfor\u001b[39;00m i \u001b[38;5;129;01min\u001b[39;00m \u001b[38;5;28mrange\u001b[39m(iterations):\n",
      "File \u001b[1;32mc:\\Users\\kevin\\anaconda3\\envs\\IntroCS\\lib\\site-packages\\numpy\\core\\fromnumeric.py:3504\u001b[0m, in \u001b[0;36mmean\u001b[1;34m(a, axis, dtype, out, keepdims, where)\u001b[0m\n\u001b[0;32m   3501\u001b[0m     \u001b[38;5;28;01melse\u001b[39;00m:\n\u001b[0;32m   3502\u001b[0m         \u001b[38;5;28;01mreturn\u001b[39;00m mean(axis\u001b[38;5;241m=\u001b[39maxis, dtype\u001b[38;5;241m=\u001b[39mdtype, out\u001b[38;5;241m=\u001b[39mout, \u001b[38;5;241m*\u001b[39m\u001b[38;5;241m*\u001b[39mkwargs)\n\u001b[1;32m-> 3504\u001b[0m \u001b[38;5;28;01mreturn\u001b[39;00m _methods\u001b[38;5;241m.\u001b[39m_mean(a, axis\u001b[38;5;241m=\u001b[39maxis, dtype\u001b[38;5;241m=\u001b[39mdtype,\n\u001b[0;32m   3505\u001b[0m                       out\u001b[38;5;241m=\u001b[39mout, \u001b[38;5;241m*\u001b[39m\u001b[38;5;241m*\u001b[39mkwargs)\n",
      "File \u001b[1;32mc:\\Users\\kevin\\anaconda3\\envs\\IntroCS\\lib\\site-packages\\numpy\\core\\_methods.py:118\u001b[0m, in \u001b[0;36m_mean\u001b[1;34m(a, axis, dtype, out, keepdims, where)\u001b[0m\n\u001b[0;32m    115\u001b[0m         dtype \u001b[38;5;241m=\u001b[39m mu\u001b[38;5;241m.\u001b[39mdtype(\u001b[38;5;124m'\u001b[39m\u001b[38;5;124mf4\u001b[39m\u001b[38;5;124m'\u001b[39m)\n\u001b[0;32m    116\u001b[0m         is_float16_result \u001b[38;5;241m=\u001b[39m \u001b[38;5;28;01mTrue\u001b[39;00m\n\u001b[1;32m--> 118\u001b[0m ret \u001b[38;5;241m=\u001b[39m \u001b[43mumr_sum\u001b[49m\u001b[43m(\u001b[49m\u001b[43marr\u001b[49m\u001b[43m,\u001b[49m\u001b[43m \u001b[49m\u001b[43maxis\u001b[49m\u001b[43m,\u001b[49m\u001b[43m \u001b[49m\u001b[43mdtype\u001b[49m\u001b[43m,\u001b[49m\u001b[43m \u001b[49m\u001b[43mout\u001b[49m\u001b[43m,\u001b[49m\u001b[43m \u001b[49m\u001b[43mkeepdims\u001b[49m\u001b[43m,\u001b[49m\u001b[43m \u001b[49m\u001b[43mwhere\u001b[49m\u001b[38;5;241;43m=\u001b[39;49m\u001b[43mwhere\u001b[49m\u001b[43m)\u001b[49m\n\u001b[0;32m    119\u001b[0m \u001b[38;5;28;01mif\u001b[39;00m \u001b[38;5;28misinstance\u001b[39m(ret, mu\u001b[38;5;241m.\u001b[39mndarray):\n\u001b[0;32m    120\u001b[0m     \u001b[38;5;28;01mwith\u001b[39;00m _no_nep50_warning():\n",
      "\u001b[1;31mKeyboardInterrupt\u001b[0m: "
     ]
    }
   ],
   "source": [
    "import numpy as np\n",
    "import scipy.stats as stats\n",
    "import matplotlib.pyplot as plt\n",
    "\n",
    "runs = np.linspace(0, 9, 10)\n",
    "p_values = np.linspace(0.05, 1, 20)\n",
    "rho_values = np.linspace(0.01, 0.28, 28)\n",
    "iterations = 5000\n",
    "\n",
    "mean = np.zeros((len(p_values), len(rho_values), len(runs), iterations))\n",
    "CI_int = np.zeros((len(p_values), len(rho_values), len(runs), iterations, 2))\n",
    "significance = np.zeros((len(p_values), len(rho_values), len(runs), iterations))\n",
    "phi_value_act = np.zeros((len(p_values), len(rho_values), len(runs)))\n",
    "\n",
    "for p_ix, p_value in enumerate(p_values):\n",
    "    for rho_ix, rho_value in enumerate(rho_values):\n",
    "        for run in runs:\n",
    "            counter1 = np.zeros(iterations)\n",
    "            phi_values = np.genfromtxt(f'./results/raw_data/run_{int(run)}_p_{p_value}_rho_{rho_value}_L_{L}_iters_{iterations}.csv', delimiter = ',', skip_header=1)\n",
    "            phi_values = phi_values[:,1]\n",
    "            phi_values = phi_values\n",
    "            for i in range(iterations):\n",
    "                if i > 1000 and i < 4000:\n",
    "                    slope, intercept, r_value, significance[p_ix, rho_ix, int(run), i], se = stats.linregress(list([np.linspace(0, 1999, 2000), phi_values[i-1000:i+1000]]))\n",
    "                    mean[p_ix, rho_ix, int(run), i] = np.mean(phi_values[i-1000:i+1000])\n",
    "                    CI_int[p_ix, rho_ix, int(run), i] = np.percentile(phi_values[i-1000:i+1000], [1, 100])\n",
    "        \n",
    "            for i in range(iterations):\n",
    "                if i > 1000 and i < 4000:\n",
    "                    # If the slope is not distinguishable from 0\n",
    "\n",
    "                    if significance[p_ix, rho_ix, int(run), i] > 0.05:\n",
    "                        counter0 = 0\n",
    "                        # Count number of outliers seen by iteration i\n",
    "                        for j in range(2000):\n",
    "                            if phi_values[i+j-999] < CI_int[p_ix, rho_ix, int(run), i, 0]:\n",
    "                                counter0 += 1\n",
    "                        counter1[i] = counter0\n",
    "                    else:\n",
    "                        counter1[i] = 9999\n",
    "                else:\n",
    "                    counter1[i] = 9999\n",
    "        \n",
    "            # Find the last index that saw the least amount of outliers\n",
    "            teller1_inv = counter1[::-1]\n",
    "            min_value_teller = np.min(teller1_inv)\n",
    "            index_min_val = list(teller1_inv).index(min_value_teller)\n",
    "            actual_index = iterations - index_min_val - 1\n",
    "\n",
    "            counter1[actual_index] = 9999\n",
    "            print(counter1[actual_index])\n",
    "            if counter1[actual_index] == 9999:\n",
    "                print(f'Error: for p = {p_value}, rho = {rho_value}, run = {run}, there is no steady state measured. \\n \\\n",
    "                        We should probably lower the range of intervals we include in the linear regression \\n \\\n",
    "                        or make the lower percentile boundary higher')\n",
    "\n",
    "            # Save the phi_value that respresents a point in our 3D plot.\n",
    "            phi_value_act[p_ix, rho_ix, int(run)] = mean[p_ix, rho_ix, int(run), actual_index]\n",
    "\n"
   ]
  }
 ],
 "metadata": {
  "kernelspec": {
   "display_name": "IntroCS",
   "language": "python",
   "name": "python3"
  },
  "language_info": {
   "codemirror_mode": {
    "name": "ipython",
    "version": 3
   },
   "file_extension": ".py",
   "mimetype": "text/x-python",
   "name": "python",
   "nbconvert_exporter": "python",
   "pygments_lexer": "ipython3",
   "version": "3.10.12"
  }
 },
 "nbformat": 4,
 "nbformat_minor": 2
}
