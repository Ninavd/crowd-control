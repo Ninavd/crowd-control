{
 "cells": [
  {
   "cell_type": "code",
   "execution_count": 8,
   "metadata": {},
   "outputs": [
    {
     "name": "stdout",
     "output_type": "stream",
     "text": [
      "         run_0     run_1     run_2     run_3     run_4     run_5     run_6  \\\n",
      "0    -0.101433 -0.073070 -0.012768 -0.055565 -0.009635  0.004720  0.003146   \n",
      "1    -0.091473 -0.090639 -0.129153 -0.087130 -0.004633  0.016520  0.069242   \n",
      "2     0.107138 -0.010967 -0.140110  0.041410  0.001203  0.049558 -0.004425   \n",
      "3     0.041053  0.015265 -0.094944  0.034689  0.054799  0.046018 -0.013679   \n",
      "4     0.051823 -0.047814 -0.042534  0.135505  0.214219  0.202360  0.020211   \n",
      "...        ...       ...       ...       ...       ...       ...       ...   \n",
      "1995  0.150062  0.192747  0.230593  0.313112  0.335525  0.262553  0.483547   \n",
      "1996  0.097059  0.085847  0.318247  0.322036  0.364824  0.219725  0.481924   \n",
      "1997  0.174962  0.098969  0.372300  0.360180  0.318136  0.236230  0.473152   \n",
      "1998  0.187413  0.143293  0.383379  0.400086  0.405557  0.240925  0.432713   \n",
      "1999  0.263142  0.122592  0.369987  0.335656  0.393052  0.327931  0.450078   \n",
      "\n",
      "         run_7     run_8     run_9      mean        sd  \n",
      "0    -0.008313  0.113508 -0.048797 -0.018821  0.055494  \n",
      "1     0.057514  0.094089 -0.026673 -0.019234  0.074241  \n",
      "2     0.063607  0.018104 -0.051379  0.007414  0.064719  \n",
      "3     0.038280 -0.024954  0.009708  0.010624  0.043009  \n",
      "4     0.018209  0.052840 -0.008667  0.059615  0.089470  \n",
      "...        ...       ...       ...       ...       ...  \n",
      "1995  0.359411  0.318506  0.457431  0.310349  0.101446  \n",
      "1996  0.322196  0.333804  0.488814  0.303448  0.129913  \n",
      "1997  0.455224  0.243165  0.557829  0.329015  0.135888  \n",
      "1998  0.410424  0.278745  0.489920  0.337245  0.110132  \n",
      "1999  0.524994  0.279830  0.466998  0.353426  0.110153  \n",
      "\n",
      "[2000 rows x 12 columns]\n"
     ]
    }
   ],
   "source": [
    "import pandas as pd\n",
    "import numpy as np \n",
    "\n",
    "iterations = 2000\n",
    "n_runs = 10\n",
    "L = 50\n",
    "rho_values = [0.01, 0.05, 0.1, 0.15, 0.2, 0.25, 0.3]\n",
    "runs = list(range(10))\n",
    "data = np.zeros((iterations, n_runs))\n",
    "results = []\n",
    "\n",
    "\n",
    "for rho in rho_values:\n",
    "    df = pd.DataFrame(columns = [f'run_{i}' for i in runs])\n",
    "    for run in runs:\n",
    "        my_data = np.genfromtxt(f'./run_{run}_rho_{rho}_L_{L}_iters_{iterations}.csv', delimiter = ',', skip_header=1)\n",
    "        my_data = my_data.T\n",
    "        df[f'run_{run}'] = my_data[1]\n",
    "    df['mean'] = df.mean(axis = 1)\n",
    "    df['sd'] = df.std(axis=1)\n",
    "    results.append(df)\n",
    "print(results[1])\n",
    "\n",
    "        \n",
    "    "
   ]
  },
  {
   "cell_type": "code",
   "execution_count": null,
   "metadata": {},
   "outputs": [],
   "source": []
  }
 ],
 "metadata": {
  "kernelspec": {
   "display_name": "base",
   "language": "python",
   "name": "python3"
  },
  "language_info": {
   "codemirror_mode": {
    "name": "ipython",
    "version": 3
   },
   "file_extension": ".py",
   "mimetype": "text/x-python",
   "name": "python",
   "nbconvert_exporter": "python",
   "pygments_lexer": "ipython3",
   "version": "3.11.0"
  }
 },
 "nbformat": 4,
 "nbformat_minor": 2
}
